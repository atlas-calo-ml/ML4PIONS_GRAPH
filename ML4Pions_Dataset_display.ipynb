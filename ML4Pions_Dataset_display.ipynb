{
 "cells": [
  {
   "cell_type": "code",
   "execution_count": 1,
   "metadata": {},
   "outputs": [],
   "source": [
    "import uproot#3 as uproot\n",
    "import numpy as np\n",
    "import pandas as pd\n",
    "from tqdm import tqdm\n",
    "\n",
    "import matplotlib.pyplot as pl\n",
    "\n",
    "import k3d"
   ]
  },
  {
   "cell_type": "code",
   "execution_count": 2,
   "metadata": {},
   "outputs": [
    {
     "name": "stderr",
     "output_type": "stream",
     "text": [
      "Using backend: pytorch\n"
     ]
    }
   ],
   "source": [
    "from modules.ML4Pions_Dataset import MLPionsDataset_FixedR, MLPionsDataset_KNN"
   ]
  },
  {
   "cell_type": "code",
   "execution_count": 3,
   "metadata": {},
   "outputs": [
    {
     "name": "stdout",
     "output_type": "stream",
     "text": [
      "\u001b[1m\u001b[34m\u001b[47m.\u001b[m\u001b[m\r\n",
      "\u001b[1m\u001b[34m\u001b[47m..\u001b[m\u001b[m\r\n",
      ".DS_Store\r\n",
      "\u001b[1m\u001b[34m\u001b[47m.ipynb_checkpoints\u001b[m\u001b[m\r\n",
      "ML4Pions_Data.ipynb\r\n",
      "ML4Pions_Data.py\r\n",
      "ML4Pions_Dataset_Old.ipynb\r\n",
      "ML4Pions_Dataset_display.ipynb\r\n",
      "\u001b[1m\u001b[34m\u001b[47mSLIDES\u001b[m\u001b[m\r\n",
      "\u001b[1m\u001b[34m\u001b[47m__pycache__\u001b[m\u001b[m\r\n",
      "fixed_radius_graph.py\r\n",
      "\u001b[1m\u001b[34m\u001b[47mml4pions_event_display-master\u001b[m\u001b[m\r\n",
      "ml4pions_event_display-master.zip\r\n",
      "\u001b[1m\u001b[34m\u001b[47mmodules\u001b[m\u001b[m\r\n",
      "root.log\r\n",
      "\u001b[1m\u001b[31muser.angerami.24559744.OutputStream._000335.root\u001b[m\u001b[m\r\n"
     ]
    }
   ],
   "source": [
    "!ls -a "
   ]
  },
  {
   "cell_type": "code",
   "execution_count": 4,
   "metadata": {},
   "outputs": [
    {
     "name": "stderr",
     "output_type": "stream",
     "text": [
      "100%|██████████| 20000/20000 [03:37<00:00, 91.75it/s] \n"
     ]
    }
   ],
   "source": [
    "dataset = MLPionsDataset_KNN(filename='user.angerami.24409108.OutputStream._000257.root', k_val=5)"
   ]
  },
  {
   "cell_type": "code",
   "execution_count": 5,
   "metadata": {},
   "outputs": [
    {
     "name": "stderr",
     "output_type": "stream",
     "text": [
      "100%|██████████| 20000/20000 [04:25<00:00, 75.34it/s]\n"
     ]
    }
   ],
   "source": [
    "dataset_fr = MLPionsDataset_FixedR(filename='user.angerami.24409108.OutputStream._000257.root', radius=1000, n_neighbor=20)"
   ]
  },
  {
   "cell_type": "code",
   "execution_count": 7,
   "metadata": {},
   "outputs": [
    {
     "data": {
      "text/plain": [
       "[Graph(num_nodes=212, num_edges=1060,\n",
       "       ndata_schemes={'x': Scheme(shape=(3,), dtype=torch.float32), 'en': Scheme(shape=(), dtype=torch.float32)}\n",
       "       edata_schemes={}),\n",
       " Graph(num_nodes=156, num_edges=780,\n",
       "       ndata_schemes={'x': Scheme(shape=(3,), dtype=torch.float32), 'en': Scheme(shape=(), dtype=torch.float32)}\n",
       "       edata_schemes={}),\n",
       " Graph(num_nodes=15, num_edges=75,\n",
       "       ndata_schemes={'x': Scheme(shape=(3,), dtype=torch.float32), 'en': Scheme(shape=(), dtype=torch.float32)}\n",
       "       edata_schemes={}),\n",
       " Graph(num_nodes=6, num_edges=30,\n",
       "       ndata_schemes={'x': Scheme(shape=(3,), dtype=torch.float32), 'en': Scheme(shape=(), dtype=torch.float32)}\n",
       "       edata_schemes={}),\n",
       " Graph(num_nodes=4, num_edges=16,\n",
       "       ndata_schemes={'x': Scheme(shape=(3,), dtype=torch.float32), 'en': Scheme(shape=(), dtype=torch.float32)}\n",
       "       edata_schemes={})]"
      ]
     },
     "execution_count": 7,
     "metadata": {},
     "output_type": "execute_result"
    }
   ],
   "source": [
    "ev_idx = 5\n",
    "\n",
    "dataset[ev_idx]['gr'] # -- list of KNN graph, one for each cluster"
   ]
  },
  {
   "cell_type": "code",
   "execution_count": 8,
   "metadata": {},
   "outputs": [
    {
     "data": {
      "text/plain": [
       "[Graph(num_nodes=212, num_edges=4240,\n",
       "       ndata_schemes={'pos': Scheme(shape=(3,), dtype=torch.float32), 'center': Scheme(shape=(), dtype=torch.float32), 'x': Scheme(shape=(3,), dtype=torch.float32), 'en': Scheme(shape=(), dtype=torch.float32)}\n",
       "       edata_schemes={}),\n",
       " Graph(num_nodes=156, num_edges=3120,\n",
       "       ndata_schemes={'pos': Scheme(shape=(3,), dtype=torch.float32), 'center': Scheme(shape=(), dtype=torch.float32), 'x': Scheme(shape=(3,), dtype=torch.float32), 'en': Scheme(shape=(), dtype=torch.float32)}\n",
       "       edata_schemes={}),\n",
       " Graph(num_nodes=15, num_edges=225,\n",
       "       ndata_schemes={'pos': Scheme(shape=(3,), dtype=torch.float32), 'center': Scheme(shape=(), dtype=torch.float32), 'x': Scheme(shape=(3,), dtype=torch.float32), 'en': Scheme(shape=(), dtype=torch.float32)}\n",
       "       edata_schemes={}),\n",
       " Graph(num_nodes=6, num_edges=36,\n",
       "       ndata_schemes={'pos': Scheme(shape=(3,), dtype=torch.float32), 'center': Scheme(shape=(), dtype=torch.float32), 'x': Scheme(shape=(3,), dtype=torch.float32), 'en': Scheme(shape=(), dtype=torch.float32)}\n",
       "       edata_schemes={}),\n",
       " Graph(num_nodes=4, num_edges=16,\n",
       "       ndata_schemes={'pos': Scheme(shape=(3,), dtype=torch.float32), 'center': Scheme(shape=(), dtype=torch.float32), 'x': Scheme(shape=(3,), dtype=torch.float32), 'en': Scheme(shape=(), dtype=torch.float32)}\n",
       "       edata_schemes={})]"
      ]
     },
     "execution_count": 8,
     "metadata": {},
     "output_type": "execute_result"
    }
   ],
   "source": [
    "dataset_fr[ev_idx]['gr'] # -- list of FR graph, one for each cluster"
   ]
  },
  {
   "cell_type": "code",
   "execution_count": 9,
   "metadata": {},
   "outputs": [],
   "source": [
    "gr_knn, gr_fr = dataset[ev_idx]['gr'][2], dataset_fr[ev_idx]['gr'][2]"
   ]
  },
  {
   "cell_type": "code",
   "execution_count": 35,
   "metadata": {},
   "outputs": [],
   "source": [
    "def plot_graph(gr, name='') : \n",
    "    \n",
    "    cell_E = gr.ndata['en'].numpy()\n",
    "    min_e,max_e = np.min(cell_E), np.max(cell_E)\n",
    "    \n",
    "    cluster_cell_pos = gr.ndata['x'].numpy()\n",
    "    \n",
    "    colormap = k3d.colormaps.basic_color_maps.CoolWarm\n",
    "    cell_colors = k3d.helpers.map_colors(np.log(cell_E),colormap,[min_e,max_e])\n",
    "    cell_colors = cell_colors.astype(np.int32)\n",
    "    \n",
    "    plot = k3d.plot(name=name)\n",
    "    \n",
    "    cell_p = k3d.points(positions=cluster_cell_pos,point_size=10,\n",
    "                        colors=cell_colors.astype(np.int32))\n",
    "    \n",
    "    cell_p.shader='3d'\n",
    "    plot += cell_p\n",
    "    \n",
    "    U, V = gr.edges()\n",
    "    \n",
    "    for edge_idx in range( len(U) ) : \n",
    "        e_st = cluster_cell_pos[ U[edge_idx].item() ]\n",
    "        e_en = cluster_cell_pos[ V[edge_idx].item() ]\n",
    "        plt_line = k3d.line([e_st,e_en],shader='mesh', width=1., color=0xff0000)\n",
    "        plot += plt_line\n",
    "    \n",
    "    plot.display()\n",
    "    \n",
    "#     print(cluster_cell_pos.shape)\n",
    "#     print(type(cluster_cell_pos))"
   ]
  },
  {
   "cell_type": "code",
   "execution_count": 36,
   "metadata": {},
   "outputs": [
    {
     "data": {
      "application/vnd.jupyter.widget-view+json": {
       "model_id": "d472ad0ea43641a1819843cf482b06d0",
       "version_major": 2,
       "version_minor": 0
      },
      "text/plain": [
       "Output()"
      ]
     },
     "metadata": {},
     "output_type": "display_data"
    }
   ],
   "source": [
    "plot_graph(gr = gr_fr, name='fixedR')"
   ]
  },
  {
   "cell_type": "code",
   "execution_count": 37,
   "metadata": {},
   "outputs": [
    {
     "data": {
      "application/vnd.jupyter.widget-view+json": {
       "model_id": "1c855ecf3e6d4c05afa187f13fc4e434",
       "version_major": 2,
       "version_minor": 0
      },
      "text/plain": [
       "Output()"
      ]
     },
     "metadata": {},
     "output_type": "display_data"
    }
   ],
   "source": [
    "plot_graph(gr = gr_knn, name='KNN')"
   ]
  },
  {
   "cell_type": "code",
   "execution_count": null,
   "metadata": {},
   "outputs": [],
   "source": []
  }
 ],
 "metadata": {
  "kernelspec": {
   "display_name": "Python 3",
   "language": "python",
   "name": "python3"
  },
  "language_info": {
   "codemirror_mode": {
    "name": "ipython",
    "version": 3
   },
   "file_extension": ".py",
   "mimetype": "text/x-python",
   "name": "python",
   "nbconvert_exporter": "python",
   "pygments_lexer": "ipython3",
   "version": "3.8.5"
  }
 },
 "nbformat": 4,
 "nbformat_minor": 4
}
